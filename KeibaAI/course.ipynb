{
 "cells": [
  {
   "cell_type": "code",
   "execution_count": null,
   "metadata": {},
   "outputs": [],
   "source": [
    "import pandas as pd\n",
    "import numpy as np\n",
    "import datetime\n",
    "from tqdm.notebook import tqdm\n",
    "from sklearn.metrics import roc_auc_score\n",
    "from sklearn.preprocessing import LabelEncoder\n",
    "import lightgbm as lgb\n",
    "import requests\n",
    "from bs4 import BeautifulSoup\n",
    "import time\n",
    "import re\n",
    "from urllib.request import urlopen\n",
    "import optuna.integration.lightgbm as lgb_o\n",
    "from itertools import combinations, permutations\n",
    "import matplotlib.pyplot as plt\n"
   ]
  },
  {
   "cell_type": "code",
   "execution_count": null,
   "metadata": {},
   "outputs": [],
   "source": [
    "course = pd.read_csv('courses.csv')\n",
    "course.set_index('Unnamed: 0', inplace=True)\n",
    "course = course.T\n",
    "course['course_len'] = course['コース'].str.extract(r'(\\d+)').astype(int)\n",
    "\n",
    "course_shape = pd.DataFrame()\n",
    "place_dict = {\n",
    "    '札幌':'01',  '函館':'02',  '福島':'03',  '新潟':'04',  '東京':'05', \n",
    "    '中山':'06',  '中京':'07',  '京都':'08',  '阪神':'09',  '小倉':'10'\n",
    "}\n",
    "course_shape['track'] = course['レース場'].map(place_dict).fillna('11')\n",
    "course_shape['first_straight'] = course['実コ1']\n",
    "cols = list(course.columns[4:19])\n",
    "for col in cols:\n",
    "    course[col] = pd.to_numeric(course[col], errors='coerce')\n",
    "course_shape['final_straight'] = course['course_len'] - course[cols].fillna(0).max(axis=1)\n",
    "\n",
    "# course_shape.to_pickle('course_shape.pickle')"
   ]
  }
 ],
 "metadata": {
  "language_info": {
   "name": "python"
  },
  "orig_nbformat": 4
 },
 "nbformat": 4,
 "nbformat_minor": 2
}
