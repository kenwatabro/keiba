{
 "cells": [
  {
   "cell_type": "code",
   "execution_count": 16,
   "metadata": {},
   "outputs": [],
   "source": [
    "from modules.Scrape import RaceScrapeer\n",
    "import requests\n",
    "from bs4 import BeautifulSoup\n",
    "import pandas as pd\n",
    "from io import StringIO"
   ]
  },
  {
   "cell_type": "code",
   "execution_count": 2,
   "metadata": {},
   "outputs": [],
   "source": [
    "r = RaceScrapeer"
   ]
  },
  {
   "cell_type": "code",
   "execution_count": 4,
   "metadata": {},
   "outputs": [
    {
     "ename": "AttributeError",
     "evalue": "type object 'RaceScrapeer' has no attribute 'login_info'",
     "output_type": "error",
     "traceback": [
      "\u001b[0;31m---------------------------------------------------------------------------\u001b[0m",
      "\u001b[0;31mAttributeError\u001b[0m                            Traceback (most recent call last)",
      "Cell \u001b[0;32mIn[4], line 1\u001b[0m\n\u001b[0;32m----> 1\u001b[0m \u001b[43mr\u001b[49m\u001b[38;5;241;43m.\u001b[39;49m\u001b[43mlogin_info\u001b[49m\n",
      "\u001b[0;31mAttributeError\u001b[0m: type object 'RaceScrapeer' has no attribute 'login_info'"
     ]
    }
   ],
   "source": [
    "r.login_info"
   ]
  },
  {
   "cell_type": "code",
   "execution_count": 6,
   "metadata": {},
   "outputs": [],
   "source": [
    "user_id = \"ken.osechi@gmail.com\"\n",
    "password = \"BQj4WGwzLxJZNkWiw\"\n",
    "login_info = {\n",
    "    \"login_id\": user_id,\n",
    "    \"pswd\": password,\n",
    "}\n",
    "session = requests.session()\n",
    "url_login = \"https://regist.netkeiba.com/account/?pid=login&action=auth\"\n",
    "ses = session.post(url_login, data=login_info)\n",
    "cookie = ses.cookies"
   ]
  },
  {
   "cell_type": "code",
   "execution_count": 31,
   "metadata": {},
   "outputs": [],
   "source": [
    "race_id = \"202301090112\""
   ]
  },
  {
   "cell_type": "code",
   "execution_count": 37,
   "metadata": {},
   "outputs": [],
   "source": [
    "url = \"https://db.sp.netkeiba.com/race/202101010101\"\n",
    "html = session.get(url, cookies=cookie)\n",
    "html.encoding = \"EUC-JP\"\n",
    "soup = BeautifulSoup(html.content, \"html.parser\")\n",
    "race_data = soup.find(\"div\", class_=\"RaceData\").find_all(\"span\")\n",
    "race_data = \"\".join(tag.get_text() for tag in race_data)"
   ]
  },
  {
   "cell_type": "code",
   "execution_count": 38,
   "metadata": {},
   "outputs": [
    {
     "data": {
      "text/plain": [
       "[    着順  枠 番  馬 番         馬名  性齢  斤量    騎手     タイム     着差  タイム 指数  ...    上り  \\\n",
       " 0    1    5    9  ディーバサンライズ  牝3  52  秋山稔樹  1:08.7    NaN      87  ...  34.6   \n",
       " 1    2    3    6      バンベルク  牡3  56  横山和生  1:08.8    3/4      85  ...  35.0   \n",
       " 2    3    7   14      リツィタル  牝3  54  大野拓弥  1:08.9    1/2      84  ...  34.0   \n",
       " 3    4    5   10  クレマチステソーロ  牝3  54  鮫島克駿  1:09.0    1/2      83  ...  35.2   \n",
       " 4    5    3    5  ペイシャケイティー  牝3  54  古川吉洋  1:09.0     ハナ      83  ...  34.5   \n",
       " 5    6    1    2       セリシア  牝3  54    武豊  1:09.0     クビ      83  ...  34.9   \n",
       " 6    7    4    7      デクラーク  牡3  56  横山武史  1:09.2      1      80  ...  33.9   \n",
       " 7    8    6   11    プレジャジンク  牝3  54  吉田隼人  1:09.2    アタマ      80  ...  35.3   \n",
       " 8    9    7   13     メルティング  牝3  54  団野大成  1:09.6  2.1/2      74  ...  34.5   \n",
       " 9   10    2    3    リトルロータス  牝3  52  山田敬士  1:09.6    アタマ      74  ...  34.5   \n",
       " 10  11    4    8    ニースバローズ  牝3  51  横山琉人  1:09.7     クビ      73  ...  34.9   \n",
       " 11  12    2    4    マイネルニゲラ  牡3  56  丹内祐次  1:09.9  1.1/4      70  ...  35.9   \n",
       " 12  13    8   15   ルーチェビアンカ  牝3  54  荻野琢真  1:09.9    アタマ      70  ...  34.8   \n",
       " 13  14    6   12  ワンダードゥヴァン  牝3  54  加藤祥太  1:09.9     クビ      70  ...  35.2   \n",
       " 14  15    1    1     ミエノベルル  牡3  56  菱田裕二  1:10.2  1.3/4      65  ...  35.8   \n",
       " 15  16    8   16  キッズリッカリッカ  牝3  54  岩田康誠  1:12.3      大      35  ...  36.4   \n",
       " \n",
       "        単勝  人気       馬体重 調教 タイム  厩舎 コメント   備考      調教師                  馬主  \\\n",
       " 0    13.5   7  474(-22)    NaN      NaN  NaN  [西]小林真也                松岡隆雄   \n",
       " 1     3.9   2   470(-2)    NaN      NaN  NaN  [西]安田隆行           キャロットファーム   \n",
       " 2   124.7  14   394(+2)    NaN      NaN  NaN  [西]牧田和弥                永田和彦   \n",
       " 3     7.6   5   468(+2)    NaN      NaN   躓く   [東]高木登       了徳寺健二ホールディングス   \n",
       " 4     7.5   4   456(+8)    NaN      NaN  出遅れ   [東]土田稔                北所直人   \n",
       " 5     3.7   1   456(+4)    NaN      NaN  出遅れ  [西]中竹和也                西田彰宏   \n",
       " 6     6.1   3   444(+2)    NaN      NaN  出遅れ  [東]矢野英一  ノルマンディーサラブレッドレーシング   \n",
       " 7    25.0   8  452(+12)    NaN      NaN  NaN  [西]吉田直弘              フォーレスト   \n",
       " 8    56.6   9    416(0)    NaN      NaN  NaN  [西]池添兼雄                安原浩司   \n",
       " 9   275.3  16  388(-20)    NaN      NaN  出遅れ  [東]松永康利               榊原源一郎   \n",
       " 10  142.9  15   402(+6)    NaN      NaN  出遅れ   [東]斎藤誠                猪熊広次   \n",
       " 11   57.7  11   498(-4)    NaN      NaN  NaN  [東]小笠倫弘     サラブレッドクラブ・ラフィアン   \n",
       " 12   56.9  10   442(+8)    NaN      NaN  NaN  [西]今野貞一            グリーンファーム   \n",
       " 13   95.4  13  428(+16)    NaN      NaN  NaN  [西]羽月友彦                山本能行   \n",
       " 14   10.4   6    436(0)    NaN      NaN  出遅れ   [西]高橋亮               里見美惠子   \n",
       " 15   69.9  12   504(+2)    NaN      NaN  NaN   [東]牧光二                瀬谷隆雄   \n",
       " \n",
       "    賞金 （万円）  \n",
       " 0    510.0  \n",
       " 1    200.0  \n",
       " 2    130.0  \n",
       " 3     77.0  \n",
       " 4     51.0  \n",
       " 5      NaN  \n",
       " 6      NaN  \n",
       " 7      NaN  \n",
       " 8      NaN  \n",
       " 9      NaN  \n",
       " 10     NaN  \n",
       " 11     NaN  \n",
       " 12     NaN  \n",
       " 13     NaN  \n",
       " 14     NaN  \n",
       " 15     NaN  \n",
       " \n",
       " [16 rows x 21 columns],\n",
       "       0       1         2      3\n",
       " 0    単勝       9    1,350円    7人気\n",
       " 1    複勝       9      340円    7人気\n",
       " 2    複勝       6      170円    1人気\n",
       " 3    複勝      14    2,190円   14人気\n",
       " 4    枠連     3-5      660円    2人気\n",
       " 5    馬連     6-9    2,580円   13人気\n",
       " 6   ワイド     6-9    1,040円   14人気\n",
       " 7   ワイド    9-14   14,560円   77人気\n",
       " 8   ワイド    6-14    6,440円   47人気\n",
       " 9    馬単     9→6    5,770円   27人気\n",
       " 10  3連複  6-9-14   34,860円   89人気\n",
       " 11  3連単  9→6→14  151,900円  416人気,\n",
       "         0                        1\n",
       " 0    馬場指数                      -26\n",
       " 1  馬場コメント  昨年9月以来の開催でかなり速い時計の出る馬場。,\n",
       "        0                                           1\n",
       " 0  3コーナー  (*6,10)11(4,2,9)-(1,5)12,8,14(3,13,15)7-16\n",
       " 1  4コーナー   6(10,11)(4,2,9)(1,5)12(8,14)(3,13,15)7=16,\n",
       "   記号の見方                                記号の見方.1\n",
       " 0     ,        1,2,3は先行馬との間隔が1馬身以上2馬身未満の差を示します\n",
       " 1     -        1-2-3は先行馬との間隔が2馬身以上5馬身未満の差を示します\n",
       " 2     =             1=2=3は先行馬との間隔が5馬身以上の差を示します\n",
       " 3    ()  (1,2,3)は1馬身未満の間隔で並走している馬群を内側の馬番から示します\n",
       " 4     *               (1,*2,3)の*印は馬群内の先頭馬を示します,\n",
       "         200m         400m       600m       800m\n",
       " 0  12.1 12.1    22.6 10.5  33.8 11.2  45.3 11.5\n",
       " 1      1000m        1200m        NaN        NaN\n",
       " 2  56.6 11.3  1:08.7 12.1        NaN        NaN]"
      ]
     },
     "execution_count": 38,
     "metadata": {},
     "output_type": "execute_result"
    }
   ],
   "source": [
    "pd.read_html(StringIO(html.text))"
   ]
  },
  {
   "cell_type": "code",
   "execution_count": null,
   "metadata": {},
   "outputs": [],
   "source": [
    "a = pd.read_html(StringIO(html.text))[0]\n",
    "a"
   ]
  },
  {
   "cell_type": "code",
   "execution_count": null,
   "metadata": {},
   "outputs": [],
   "source": [
    "df = pd.read_pickle(\"horse_results/Race_2021_0-1000.pickle\")\n",
    "df"
   ]
  },
  {
   "cell_type": "code",
   "execution_count": 39,
   "metadata": {},
   "outputs": [
    {
     "name": "stdout",
     "output_type": "stream",
     "text": [
      "<RequestsCookieJar[]>\n"
     ]
    }
   ],
   "source": [
    "from modules.Scrape import RaceScrapeer\n",
    "\n",
    "# RaceScrapeerのインスタンスを作成\n",
    "scraper = RaceScrapeer()\n",
    "\n",
    "# cookieの値を確認\n",
    "print(scraper.cookie)"
   ]
  },
  {
   "cell_type": "code",
   "execution_count": null,
   "metadata": {},
   "outputs": [],
   "source": [
    "import requests\n",
    "from bs4 import BeautifulSoup\n",
    "\n",
    "import login_info\n",
    "\n",
    "\n",
    "class NetkeibaLogin:\n",
    "    def __init__(self, login_info):\n",
    "        self.login_info = {\n",
    "            \"login_id\": login_info.USERID,\n",
    "            \"pswd\": login_info.PASSWORD,\n",
    "        }\n",
    "        self.session = requests.session()\n",
    "        self.url_login = \"https://regist.netkeiba.com/account/?pid=login&action=auth\"\n",
    "        self.headers = {\n",
    "            \"User-Agent\": \"Mozilla/5.0 (Windows NT 10.0; Win64; x64) AppleWebKit/537.36 (KHTML, like Gecko) Chrome/91.0.4472.124 Safari/537.36\"\n",
    "        }\n",
    "\n",
    "    def login(self):\n",
    "        # First, get the login page to check for any CSRF token\n",
    "        login_page = self.session.get(self.url_login, headers=self.headers)\n",
    "        soup = BeautifulSoup(login_page.content, \"html.parser\")\n",
    "\n",
    "        # Check for any hidden input fields and add them to login_info\n",
    "        for hidden_input in soup.find_all(\"input\", type=\"hidden\"):\n",
    "            self.login_info[hidden_input[\"name\"]] = hidden_input[\"value\"]\n",
    "\n",
    "        # Attempt login\n",
    "        self.ses = self.session.post(\n",
    "            self.url_login,\n",
    "            data=self.login_info,\n",
    "            headers=self.headers,\n",
    "            allow_redirects=False,\n",
    "        )\n",
    "\n",
    "        if self.ses.status_code == 302:\n",
    "            redirect_url = self.ses.headers[\"Location\"]\n",
    "            self.ses = self.session.get(redirect_url, headers=self.headers)\n",
    "\n",
    "        # Verify login success\n",
    "        test_url = (\n",
    "            \"https://regist.netkeiba.com/account/\"  # Replace with appropriate URL\n",
    "        )\n",
    "        test_response = self.session.get(test_url, headers=self.headers)\n",
    "\n",
    "        if \"ログアウト\" in test_response.text or \"マイページ\" in test_response.text:\n",
    "            print(\"Login successful\")\n",
    "        else:\n",
    "            print(\"Login failed\")\n",
    "\n",
    "        print(f\"Cookies: {self.session.cookies}\")\n",
    "\n",
    "        return self.session\n",
    "\n",
    "\n",
    "# Usage\n",
    "# login_info = YourLoginInfoClass()  # Replace with your actual login info class\n",
    "netkeiba = NetkeibaLogin(login_info)\n",
    "logged_in_session = netkeiba.login()"
   ]
  }
 ],
 "metadata": {
  "kernelspec": {
   "display_name": "keiba",
   "language": "python",
   "name": "python3"
  },
  "language_info": {
   "codemirror_mode": {
    "name": "ipython",
    "version": 3
   },
   "file_extension": ".py",
   "mimetype": "text/x-python",
   "name": "python",
   "nbconvert_exporter": "python",
   "pygments_lexer": "ipython3",
   "version": "3.10.14"
  }
 },
 "nbformat": 4,
 "nbformat_minor": 2
}
